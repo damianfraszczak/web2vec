{
 "cells": [
  {
   "metadata": {},
   "cell_type": "markdown",
   "source": "# Install the required packages",
   "id": "c982acb8d6856ce3"
  },
  {
   "metadata": {
    "collapsed": true,
    "ExecuteTime": {
     "end_time": "2024-10-21T11:59:23.253191Z",
     "start_time": "2024-10-21T11:59:11.094042Z"
    }
   },
   "cell_type": "code",
   "outputs": [
    {
     "name": "stdout",
     "output_type": "stream",
     "text": [
      "Collecting web2vec\n",
      "  Downloading web2vec-0.1.2-py3-none-any.whl.metadata (15 kB)\n",
      "Requirement already satisfied: scrapy in d:\\repozytoria\\web2vec\\.venv\\lib\\site-packages (from web2vec) (2.11.2)\n",
      "Requirement already satisfied: networkx in d:\\repozytoria\\web2vec\\.venv\\lib\\site-packages (from web2vec) (3.4.1)\n",
      "Requirement already satisfied: beautifulsoup4 in d:\\repozytoria\\web2vec\\.venv\\lib\\site-packages (from web2vec) (4.12.3)\n",
      "Requirement already satisfied: matplotlib in d:\\repozytoria\\web2vec\\.venv\\lib\\site-packages (from web2vec) (3.9.2)\n",
      "Requirement already satisfied: scipy in d:\\repozytoria\\web2vec\\.venv\\lib\\site-packages (from web2vec) (1.14.1)\n",
      "Requirement already satisfied: python-whois in d:\\repozytoria\\web2vec\\.venv\\lib\\site-packages (from web2vec) (0.9.4)\n",
      "Requirement already satisfied: dnspython in d:\\repozytoria\\web2vec\\.venv\\lib\\site-packages (from web2vec) (2.7.0)\n",
      "Requirement already satisfied: geoip2 in d:\\repozytoria\\web2vec\\.venv\\lib\\site-packages (from web2vec) (4.8.0)\n",
      "Requirement already satisfied: tldextract in d:\\repozytoria\\web2vec\\.venv\\lib\\site-packages (from web2vec) (5.1.2)\n",
      "Requirement already satisfied: selenium in d:\\repozytoria\\web2vec\\.venv\\lib\\site-packages (from web2vec) (4.25.0)\n",
      "Requirement already satisfied: webdriver-manager in d:\\repozytoria\\web2vec\\.venv\\lib\\site-packages (from web2vec) (4.0.2)\n",
      "Requirement already satisfied: pydantic in d:\\repozytoria\\web2vec\\.venv\\lib\\site-packages (from web2vec) (2.9.2)\n",
      "Requirement already satisfied: pydantic-settings in d:\\repozytoria\\web2vec\\.venv\\lib\\site-packages (from web2vec) (2.6.0)\n",
      "Requirement already satisfied: soupsieve>1.2 in d:\\repozytoria\\web2vec\\.venv\\lib\\site-packages (from beautifulsoup4->web2vec) (2.6)\n",
      "Requirement already satisfied: aiohttp<4.0.0,>=3.6.2 in d:\\repozytoria\\web2vec\\.venv\\lib\\site-packages (from geoip2->web2vec) (3.10.10)\n",
      "Requirement already satisfied: maxminddb<3.0.0,>=2.5.1 in d:\\repozytoria\\web2vec\\.venv\\lib\\site-packages (from geoip2->web2vec) (2.6.2)\n",
      "Requirement already satisfied: requests<3.0.0,>=2.24.0 in d:\\repozytoria\\web2vec\\.venv\\lib\\site-packages (from geoip2->web2vec) (2.32.3)\n",
      "Requirement already satisfied: setuptools>=60.0.0 in d:\\repozytoria\\web2vec\\.venv\\lib\\site-packages (from geoip2->web2vec) (75.2.0)\n",
      "Requirement already satisfied: contourpy>=1.0.1 in d:\\repozytoria\\web2vec\\.venv\\lib\\site-packages (from matplotlib->web2vec) (1.3.0)\n",
      "Requirement already satisfied: cycler>=0.10 in d:\\repozytoria\\web2vec\\.venv\\lib\\site-packages (from matplotlib->web2vec) (0.12.1)\n",
      "Requirement already satisfied: fonttools>=4.22.0 in d:\\repozytoria\\web2vec\\.venv\\lib\\site-packages (from matplotlib->web2vec) (4.54.1)\n",
      "Requirement already satisfied: kiwisolver>=1.3.1 in d:\\repozytoria\\web2vec\\.venv\\lib\\site-packages (from matplotlib->web2vec) (1.4.7)\n",
      "Requirement already satisfied: numpy>=1.23 in d:\\repozytoria\\web2vec\\.venv\\lib\\site-packages (from matplotlib->web2vec) (2.1.2)\n",
      "Requirement already satisfied: packaging>=20.0 in d:\\repozytoria\\web2vec\\.venv\\lib\\site-packages (from matplotlib->web2vec) (24.1)\n",
      "Requirement already satisfied: pillow>=8 in d:\\repozytoria\\web2vec\\.venv\\lib\\site-packages (from matplotlib->web2vec) (11.0.0)\n",
      "Requirement already satisfied: pyparsing>=2.3.1 in d:\\repozytoria\\web2vec\\.venv\\lib\\site-packages (from matplotlib->web2vec) (3.2.0)\n",
      "Requirement already satisfied: python-dateutil>=2.7 in d:\\repozytoria\\web2vec\\.venv\\lib\\site-packages (from matplotlib->web2vec) (2.9.0.post0)\n",
      "Requirement already satisfied: annotated-types>=0.6.0 in d:\\repozytoria\\web2vec\\.venv\\lib\\site-packages (from pydantic->web2vec) (0.7.0)\n",
      "Requirement already satisfied: pydantic-core==2.23.4 in d:\\repozytoria\\web2vec\\.venv\\lib\\site-packages (from pydantic->web2vec) (2.23.4)\n",
      "Requirement already satisfied: typing-extensions>=4.6.1 in d:\\repozytoria\\web2vec\\.venv\\lib\\site-packages (from pydantic->web2vec) (4.12.2)\n",
      "Requirement already satisfied: python-dotenv>=0.21.0 in d:\\repozytoria\\web2vec\\.venv\\lib\\site-packages (from pydantic-settings->web2vec) (1.0.1)\n",
      "Requirement already satisfied: Twisted>=18.9.0 in d:\\repozytoria\\web2vec\\.venv\\lib\\site-packages (from scrapy->web2vec) (24.7.0)\n",
      "Requirement already satisfied: cryptography>=36.0.0 in d:\\repozytoria\\web2vec\\.venv\\lib\\site-packages (from scrapy->web2vec) (43.0.3)\n",
      "Requirement already satisfied: cssselect>=0.9.1 in d:\\repozytoria\\web2vec\\.venv\\lib\\site-packages (from scrapy->web2vec) (1.2.0)\n",
      "Requirement already satisfied: itemloaders>=1.0.1 in d:\\repozytoria\\web2vec\\.venv\\lib\\site-packages (from scrapy->web2vec) (1.3.2)\n",
      "Requirement already satisfied: parsel>=1.5.0 in d:\\repozytoria\\web2vec\\.venv\\lib\\site-packages (from scrapy->web2vec) (1.9.1)\n",
      "Requirement already satisfied: pyOpenSSL>=21.0.0 in d:\\repozytoria\\web2vec\\.venv\\lib\\site-packages (from scrapy->web2vec) (24.2.1)\n",
      "Requirement already satisfied: queuelib>=1.4.2 in d:\\repozytoria\\web2vec\\.venv\\lib\\site-packages (from scrapy->web2vec) (1.7.0)\n",
      "Requirement already satisfied: service-identity>=18.1.0 in d:\\repozytoria\\web2vec\\.venv\\lib\\site-packages (from scrapy->web2vec) (24.1.0)\n",
      "Requirement already satisfied: w3lib>=1.17.0 in d:\\repozytoria\\web2vec\\.venv\\lib\\site-packages (from scrapy->web2vec) (2.2.1)\n",
      "Requirement already satisfied: zope.interface>=5.1.0 in d:\\repozytoria\\web2vec\\.venv\\lib\\site-packages (from scrapy->web2vec) (7.1.0)\n",
      "Requirement already satisfied: protego>=0.1.15 in d:\\repozytoria\\web2vec\\.venv\\lib\\site-packages (from scrapy->web2vec) (0.3.1)\n",
      "Requirement already satisfied: itemadapter>=0.1.0 in d:\\repozytoria\\web2vec\\.venv\\lib\\site-packages (from scrapy->web2vec) (0.9.0)\n",
      "Requirement already satisfied: lxml>=4.4.1 in d:\\repozytoria\\web2vec\\.venv\\lib\\site-packages (from scrapy->web2vec) (5.3.0)\n",
      "Requirement already satisfied: defusedxml>=0.7.1 in d:\\repozytoria\\web2vec\\.venv\\lib\\site-packages (from scrapy->web2vec) (0.7.1)\n",
      "Requirement already satisfied: PyDispatcher>=2.0.5 in d:\\repozytoria\\web2vec\\.venv\\lib\\site-packages (from scrapy->web2vec) (2.0.7)\n",
      "Requirement already satisfied: urllib3<3,>=1.26 in d:\\repozytoria\\web2vec\\.venv\\lib\\site-packages (from urllib3[socks]<3,>=1.26->selenium->web2vec) (2.2.3)\n",
      "Requirement already satisfied: trio~=0.17 in d:\\repozytoria\\web2vec\\.venv\\lib\\site-packages (from selenium->web2vec) (0.27.0)\n",
      "Requirement already satisfied: trio-websocket~=0.9 in d:\\repozytoria\\web2vec\\.venv\\lib\\site-packages (from selenium->web2vec) (0.11.1)\n",
      "Requirement already satisfied: certifi>=2021.10.8 in d:\\repozytoria\\web2vec\\.venv\\lib\\site-packages (from selenium->web2vec) (2024.8.30)\n",
      "Requirement already satisfied: websocket-client~=1.8 in d:\\repozytoria\\web2vec\\.venv\\lib\\site-packages (from selenium->web2vec) (1.8.0)\n",
      "Requirement already satisfied: idna in d:\\repozytoria\\web2vec\\.venv\\lib\\site-packages (from tldextract->web2vec) (3.10)\n",
      "Requirement already satisfied: requests-file>=1.4 in d:\\repozytoria\\web2vec\\.venv\\lib\\site-packages (from tldextract->web2vec) (2.1.0)\n",
      "Requirement already satisfied: filelock>=3.0.8 in d:\\repozytoria\\web2vec\\.venv\\lib\\site-packages (from tldextract->web2vec) (3.16.1)\n",
      "Requirement already satisfied: aiohappyeyeballs>=2.3.0 in d:\\repozytoria\\web2vec\\.venv\\lib\\site-packages (from aiohttp<4.0.0,>=3.6.2->geoip2->web2vec) (2.4.3)\n",
      "Requirement already satisfied: aiosignal>=1.1.2 in d:\\repozytoria\\web2vec\\.venv\\lib\\site-packages (from aiohttp<4.0.0,>=3.6.2->geoip2->web2vec) (1.3.1)\n",
      "Requirement already satisfied: attrs>=17.3.0 in d:\\repozytoria\\web2vec\\.venv\\lib\\site-packages (from aiohttp<4.0.0,>=3.6.2->geoip2->web2vec) (24.2.0)\n",
      "Requirement already satisfied: frozenlist>=1.1.1 in d:\\repozytoria\\web2vec\\.venv\\lib\\site-packages (from aiohttp<4.0.0,>=3.6.2->geoip2->web2vec) (1.4.1)\n",
      "Requirement already satisfied: multidict<7.0,>=4.5 in d:\\repozytoria\\web2vec\\.venv\\lib\\site-packages (from aiohttp<4.0.0,>=3.6.2->geoip2->web2vec) (6.1.0)\n",
      "Requirement already satisfied: yarl<2.0,>=1.12.0 in d:\\repozytoria\\web2vec\\.venv\\lib\\site-packages (from aiohttp<4.0.0,>=3.6.2->geoip2->web2vec) (1.15.5)\n",
      "Requirement already satisfied: cffi>=1.12 in d:\\repozytoria\\web2vec\\.venv\\lib\\site-packages (from cryptography>=36.0.0->scrapy->web2vec) (1.17.1)\n",
      "Requirement already satisfied: jmespath>=0.9.5 in d:\\repozytoria\\web2vec\\.venv\\lib\\site-packages (from itemloaders>=1.0.1->scrapy->web2vec) (1.0.1)\n",
      "Requirement already satisfied: six>=1.5 in d:\\repozytoria\\web2vec\\.venv\\lib\\site-packages (from python-dateutil>=2.7->matplotlib->web2vec) (1.16.0)\n",
      "Requirement already satisfied: charset-normalizer<4,>=2 in d:\\repozytoria\\web2vec\\.venv\\lib\\site-packages (from requests<3.0.0,>=2.24.0->geoip2->web2vec) (3.4.0)\n",
      "Requirement already satisfied: pyasn1 in d:\\repozytoria\\web2vec\\.venv\\lib\\site-packages (from service-identity>=18.1.0->scrapy->web2vec) (0.6.1)\n",
      "Requirement already satisfied: pyasn1-modules in d:\\repozytoria\\web2vec\\.venv\\lib\\site-packages (from service-identity>=18.1.0->scrapy->web2vec) (0.4.1)\n",
      "Requirement already satisfied: sortedcontainers in d:\\repozytoria\\web2vec\\.venv\\lib\\site-packages (from trio~=0.17->selenium->web2vec) (2.4.0)\n",
      "Requirement already satisfied: outcome in d:\\repozytoria\\web2vec\\.venv\\lib\\site-packages (from trio~=0.17->selenium->web2vec) (1.3.0.post0)\n",
      "Requirement already satisfied: sniffio>=1.3.0 in d:\\repozytoria\\web2vec\\.venv\\lib\\site-packages (from trio~=0.17->selenium->web2vec) (1.3.1)\n",
      "Requirement already satisfied: wsproto>=0.14 in d:\\repozytoria\\web2vec\\.venv\\lib\\site-packages (from trio-websocket~=0.9->selenium->web2vec) (1.2.0)\n",
      "Requirement already satisfied: automat>=0.8.0 in d:\\repozytoria\\web2vec\\.venv\\lib\\site-packages (from Twisted>=18.9.0->scrapy->web2vec) (24.8.1)\n",
      "Requirement already satisfied: constantly>=15.1 in d:\\repozytoria\\web2vec\\.venv\\lib\\site-packages (from Twisted>=18.9.0->scrapy->web2vec) (23.10.4)\n",
      "Requirement already satisfied: hyperlink>=17.1.1 in d:\\repozytoria\\web2vec\\.venv\\lib\\site-packages (from Twisted>=18.9.0->scrapy->web2vec) (21.0.0)\n",
      "Requirement already satisfied: incremental>=24.7.0 in d:\\repozytoria\\web2vec\\.venv\\lib\\site-packages (from Twisted>=18.9.0->scrapy->web2vec) (24.7.2)\n",
      "Requirement already satisfied: pysocks!=1.5.7,<2.0,>=1.5.6 in d:\\repozytoria\\web2vec\\.venv\\lib\\site-packages (from urllib3[socks]<3,>=1.26->selenium->web2vec) (1.7.1)\n",
      "Requirement already satisfied: pycparser in d:\\repozytoria\\web2vec\\.venv\\lib\\site-packages (from cffi>=1.12->cryptography>=36.0.0->scrapy->web2vec) (2.22)\n",
      "Requirement already satisfied: h11<1,>=0.9.0 in d:\\repozytoria\\web2vec\\.venv\\lib\\site-packages (from wsproto>=0.14->trio-websocket~=0.9->selenium->web2vec) (0.14.0)\n",
      "Requirement already satisfied: propcache>=0.2.0 in d:\\repozytoria\\web2vec\\.venv\\lib\\site-packages (from yarl<2.0,>=1.12.0->aiohttp<4.0.0,>=3.6.2->geoip2->web2vec) (0.2.0)\n",
      "Downloading web2vec-0.1.2-py3-none-any.whl (32 kB)\n",
      "Installing collected packages: web2vec\n",
      "Successfully installed web2vec-0.1.2\n"
     ]
    },
    {
     "name": "stderr",
     "output_type": "stream",
     "text": [
      "\n",
      "[notice] A new release of pip is available: 24.0 -> 24.2\n",
      "[notice] To update, run: python.exe -m pip install --upgrade pip\n"
     ]
    },
    {
     "name": "stdout",
     "output_type": "stream",
     "text": [
      "Collecting pandas\n",
      "  Downloading pandas-2.2.3-cp312-cp312-win_amd64.whl.metadata (19 kB)\n",
      "Requirement already satisfied: numpy>=1.26.0 in d:\\repozytoria\\web2vec\\.venv\\lib\\site-packages (from pandas) (2.1.2)\n",
      "Requirement already satisfied: python-dateutil>=2.8.2 in d:\\repozytoria\\web2vec\\.venv\\lib\\site-packages (from pandas) (2.9.0.post0)\n",
      "Collecting pytz>=2020.1 (from pandas)\n",
      "  Downloading pytz-2024.2-py2.py3-none-any.whl.metadata (22 kB)\n",
      "Collecting tzdata>=2022.7 (from pandas)\n",
      "  Downloading tzdata-2024.2-py2.py3-none-any.whl.metadata (1.4 kB)\n",
      "Requirement already satisfied: six>=1.5 in d:\\repozytoria\\web2vec\\.venv\\lib\\site-packages (from python-dateutil>=2.8.2->pandas) (1.16.0)\n",
      "Downloading pandas-2.2.3-cp312-cp312-win_amd64.whl (11.5 MB)\n",
      "   ---------------------------------------- 0.0/11.5 MB ? eta -:--:--\n",
      "   - -------------------------------------- 0.3/11.5 MB 6.3 MB/s eta 0:00:02\n",
      "   --- ------------------------------------ 1.1/11.5 MB 12.1 MB/s eta 0:00:01\n",
      "   ---------- ----------------------------- 3.0/11.5 MB 21.3 MB/s eta 0:00:01\n",
      "   ----------------- ---------------------- 5.1/11.5 MB 29.7 MB/s eta 0:00:01\n",
      "   ------------------------- -------------- 7.2/11.5 MB 30.7 MB/s eta 0:00:01\n",
      "   ---------------------------------------  11.5/11.5 MB 59.5 MB/s eta 0:00:01\n",
      "   ---------------------------------------- 11.5/11.5 MB 54.4 MB/s eta 0:00:00\n",
      "Downloading pytz-2024.2-py2.py3-none-any.whl (508 kB)\n",
      "   ---------------------------------------- 0.0/508.0 kB ? eta -:--:--\n",
      "   --------------------------------------- 508.0/508.0 kB 15.6 MB/s eta 0:00:00\n",
      "Downloading tzdata-2024.2-py2.py3-none-any.whl (346 kB)\n",
      "   ---------------------------------------- 0.0/346.6 kB ? eta -:--:--\n",
      "   ---------------------------------------- 346.6/346.6 kB ? eta 0:00:00\n",
      "Installing collected packages: pytz, tzdata, pandas\n",
      "Successfully installed pandas-2.2.3 pytz-2024.2 tzdata-2024.2\n"
     ]
    },
    {
     "name": "stderr",
     "output_type": "stream",
     "text": [
      "\n",
      "[notice] A new release of pip is available: 24.0 -> 24.2\n",
      "[notice] To update, run: python.exe -m pip install --upgrade pip\n"
     ]
    }
   ],
   "execution_count": 2,
   "source": [
    "!pip install web2vec\n",
    "!pip install pandas"
   ],
   "id": "initial_id"
  },
  {
   "metadata": {},
   "cell_type": "code",
   "outputs": [],
   "execution_count": null,
   "source": "# Import the required packages",
   "id": "7afca1bb68a2b22d"
  },
  {
   "metadata": {
    "ExecuteTime": {
     "end_time": "2024-10-21T17:14:08.328376Z",
     "start_time": "2024-10-21T17:14:07.346547Z"
    }
   },
   "cell_type": "code",
   "outputs": [],
   "execution_count": 2,
   "source": [
    "import pandas as pd\n",
    "import web2vec as w2v"
   ],
   "id": "f30d9b67336e88a"
  },
  {
   "metadata": {},
   "cell_type": "markdown",
   "source": "# Load dataset with legitimate and phishing websites",
   "id": "6280fa5e537875cf"
  },
  {
   "metadata": {},
   "cell_type": "code",
   "source": [
    "# Show the first 5 rows of the dataset\n",
    "data = pd.read_csv(\"../data/phish_websites.csv\")\n",
    "data.head()"
   ],
   "id": "5ccab099cb0e01fd",
   "outputs": [],
   "execution_count": null
  },
  {
   "metadata": {
    "ExecuteTime": {
     "end_time": "2024-10-21T17:14:11.742804Z",
     "start_time": "2024-10-21T17:14:11.729663Z"
    }
   },
   "cell_type": "code",
   "source": [
    "# Show the last 5 rows of the dataset\n",
    "data.tail()"
   ],
   "id": "d3cb448f4dd65010",
   "outputs": [
    {
     "data": {
      "text/plain": [
       "                        Domain  is_phish\n",
       "36                  obyvomv.cn         1\n",
       "37                  ojhbzra.cn         1\n",
       "38                  opuybfj.cn         1\n",
       "39  espace-orange25.weebly.com         1\n",
       "40                  urless.com         1"
      ],
      "text/html": [
       "<div>\n",
       "<style scoped>\n",
       "    .dataframe tbody tr th:only-of-type {\n",
       "        vertical-align: middle;\n",
       "    }\n",
       "\n",
       "    .dataframe tbody tr th {\n",
       "        vertical-align: top;\n",
       "    }\n",
       "\n",
       "    .dataframe thead th {\n",
       "        text-align: right;\n",
       "    }\n",
       "</style>\n",
       "<table border=\"1\" class=\"dataframe\">\n",
       "  <thead>\n",
       "    <tr style=\"text-align: right;\">\n",
       "      <th></th>\n",
       "      <th>Domain</th>\n",
       "      <th>is_phish</th>\n",
       "    </tr>\n",
       "  </thead>\n",
       "  <tbody>\n",
       "    <tr>\n",
       "      <th>36</th>\n",
       "      <td>obyvomv.cn</td>\n",
       "      <td>1</td>\n",
       "    </tr>\n",
       "    <tr>\n",
       "      <th>37</th>\n",
       "      <td>ojhbzra.cn</td>\n",
       "      <td>1</td>\n",
       "    </tr>\n",
       "    <tr>\n",
       "      <th>38</th>\n",
       "      <td>opuybfj.cn</td>\n",
       "      <td>1</td>\n",
       "    </tr>\n",
       "    <tr>\n",
       "      <th>39</th>\n",
       "      <td>espace-orange25.weebly.com</td>\n",
       "      <td>1</td>\n",
       "    </tr>\n",
       "    <tr>\n",
       "      <th>40</th>\n",
       "      <td>urless.com</td>\n",
       "      <td>1</td>\n",
       "    </tr>\n",
       "  </tbody>\n",
       "</table>\n",
       "</div>"
      ]
     },
     "execution_count": 4,
     "metadata": {},
     "output_type": "execute_result"
    }
   ],
   "execution_count": 4
  },
  {
   "metadata": {},
   "cell_type": "code",
   "outputs": [],
   "execution_count": null,
   "source": "# Process the websites and extract features. Perform the website to vector transformation.",
   "id": "bbaf6a4929493b5f"
  },
  {
   "metadata": {
    "ExecuteTime": {
     "end_time": "2024-10-21T17:18:43.691870Z",
     "start_time": "2024-10-21T17:17:34.589514Z"
    }
   },
   "cell_type": "code",
   "source": [
    "import csv\n",
    "\n",
    "websites_parameters = {}\n",
    "# which parameters to extract\n",
    "extractors = [\n",
    "    w2v.HtmlBodyExtractor(),\n",
    "    w2v.HttpResponseExtractor(),\n",
    "    w2v.UrlLexicalExtractor(),\n",
    "    w2v.CertificateExtractor(),\n",
    "    w2v.OpenPhishExtractor(),\n",
    "]\n",
    "data = pd.read_csv(\"../data/phish_websites.csv\")\n",
    "\n",
    "# process each domain\n",
    "for domain, is_phish in zip(data['Domain'], data['is_phish']):\n",
    "    url = f\"https://{domain}\"\n",
    "    websites_parameters[domain] = w2v.process_extractors(url, extractors, use_only_numerical=True)\n",
    "    websites_parameters[domain][\"is_phish\"] = is_phish\n",
    "\n",
    "# store the parameters in a CSV file\n",
    "with open('../data/sample_dataset.csv', 'w', newline='') as file:\n",
    "    fieldnames = [\"Domain\"] + list(\n",
    "        next(iter(websites_parameters.values())).keys())\n",
    "    writer = csv.DictWriter(file, fieldnames=fieldnames)\n",
    "    writer.writeheader()\n",
    "    for domain, parameters in websites_parameters.items():\n",
    "        row = {\"Domain\": domain}\n",
    "        row.update(parameters)\n",
    "        writer.writerow(row)\n",
    "\n",
    "# show the first 5 rows of the dataset\n",
    "dataset = pd.read_csv(\"../data/sample_dataset.csv\")\n",
    "dataset.head()\n",
    "\n",
    "\n"
   ],
   "id": "7f11de65eb6b858b",
   "outputs": [
    {
     "ename": "KeyboardInterrupt",
     "evalue": "",
     "output_type": "error",
     "traceback": [
      "\u001B[1;31m---------------------------------------------------------------------------\u001B[0m",
      "\u001B[1;31mTimeoutError\u001B[0m                              Traceback (most recent call last)",
      "File \u001B[1;32m~\\AppData\\Local\\Programs\\Python\\Python312\\Lib\\http\\client.py:1411\u001B[0m, in \u001B[0;36mHTTPConnection.getresponse\u001B[1;34m(self)\u001B[0m\n\u001B[0;32m   1410\u001B[0m \u001B[38;5;28;01mtry\u001B[39;00m:\n\u001B[1;32m-> 1411\u001B[0m     \u001B[43mresponse\u001B[49m\u001B[38;5;241;43m.\u001B[39;49m\u001B[43mbegin\u001B[49m\u001B[43m(\u001B[49m\u001B[43m)\u001B[49m\n\u001B[0;32m   1412\u001B[0m \u001B[38;5;28;01mexcept\u001B[39;00m \u001B[38;5;167;01mConnectionError\u001B[39;00m:\n",
      "File \u001B[1;32m~\\AppData\\Local\\Programs\\Python\\Python312\\Lib\\http\\client.py:324\u001B[0m, in \u001B[0;36mHTTPResponse.begin\u001B[1;34m(self)\u001B[0m\n\u001B[0;32m    323\u001B[0m \u001B[38;5;28;01mwhile\u001B[39;00m \u001B[38;5;28;01mTrue\u001B[39;00m:\n\u001B[1;32m--> 324\u001B[0m     version, status, reason \u001B[38;5;241m=\u001B[39m \u001B[38;5;28;43mself\u001B[39;49m\u001B[38;5;241;43m.\u001B[39;49m\u001B[43m_read_status\u001B[49m\u001B[43m(\u001B[49m\u001B[43m)\u001B[49m\n\u001B[0;32m    325\u001B[0m     \u001B[38;5;28;01mif\u001B[39;00m status \u001B[38;5;241m!=\u001B[39m CONTINUE:\n",
      "File \u001B[1;32m~\\AppData\\Local\\Programs\\Python\\Python312\\Lib\\http\\client.py:285\u001B[0m, in \u001B[0;36mHTTPResponse._read_status\u001B[1;34m(self)\u001B[0m\n\u001B[0;32m    284\u001B[0m \u001B[38;5;28;01mdef\u001B[39;00m \u001B[38;5;21m_read_status\u001B[39m(\u001B[38;5;28mself\u001B[39m):\n\u001B[1;32m--> 285\u001B[0m     line \u001B[38;5;241m=\u001B[39m \u001B[38;5;28mstr\u001B[39m(\u001B[38;5;28;43mself\u001B[39;49m\u001B[38;5;241;43m.\u001B[39;49m\u001B[43mfp\u001B[49m\u001B[38;5;241;43m.\u001B[39;49m\u001B[43mreadline\u001B[49m\u001B[43m(\u001B[49m\u001B[43m_MAXLINE\u001B[49m\u001B[43m \u001B[49m\u001B[38;5;241;43m+\u001B[39;49m\u001B[43m \u001B[49m\u001B[38;5;241;43m1\u001B[39;49m\u001B[43m)\u001B[49m, \u001B[38;5;124m\"\u001B[39m\u001B[38;5;124miso-8859-1\u001B[39m\u001B[38;5;124m\"\u001B[39m)\n\u001B[0;32m    286\u001B[0m     \u001B[38;5;28;01mif\u001B[39;00m \u001B[38;5;28mlen\u001B[39m(line) \u001B[38;5;241m>\u001B[39m _MAXLINE:\n",
      "File \u001B[1;32m~\\AppData\\Local\\Programs\\Python\\Python312\\Lib\\socket.py:707\u001B[0m, in \u001B[0;36mSocketIO.readinto\u001B[1;34m(self, b)\u001B[0m\n\u001B[0;32m    706\u001B[0m \u001B[38;5;28;01mtry\u001B[39;00m:\n\u001B[1;32m--> 707\u001B[0m     \u001B[38;5;28;01mreturn\u001B[39;00m \u001B[38;5;28;43mself\u001B[39;49m\u001B[38;5;241;43m.\u001B[39;49m\u001B[43m_sock\u001B[49m\u001B[38;5;241;43m.\u001B[39;49m\u001B[43mrecv_into\u001B[49m\u001B[43m(\u001B[49m\u001B[43mb\u001B[49m\u001B[43m)\u001B[49m\n\u001B[0;32m    708\u001B[0m \u001B[38;5;28;01mexcept\u001B[39;00m timeout:\n",
      "File \u001B[1;32m~\\AppData\\Local\\Programs\\Python\\Python312\\Lib\\ssl.py:1249\u001B[0m, in \u001B[0;36mSSLSocket.recv_into\u001B[1;34m(self, buffer, nbytes, flags)\u001B[0m\n\u001B[0;32m   1246\u001B[0m         \u001B[38;5;28;01mraise\u001B[39;00m \u001B[38;5;167;01mValueError\u001B[39;00m(\n\u001B[0;32m   1247\u001B[0m           \u001B[38;5;124m\"\u001B[39m\u001B[38;5;124mnon-zero flags not allowed in calls to recv_into() on \u001B[39m\u001B[38;5;132;01m%s\u001B[39;00m\u001B[38;5;124m\"\u001B[39m \u001B[38;5;241m%\u001B[39m\n\u001B[0;32m   1248\u001B[0m           \u001B[38;5;28mself\u001B[39m\u001B[38;5;241m.\u001B[39m\u001B[38;5;18m__class__\u001B[39m)\n\u001B[1;32m-> 1249\u001B[0m     \u001B[38;5;28;01mreturn\u001B[39;00m \u001B[38;5;28;43mself\u001B[39;49m\u001B[38;5;241;43m.\u001B[39;49m\u001B[43mread\u001B[49m\u001B[43m(\u001B[49m\u001B[43mnbytes\u001B[49m\u001B[43m,\u001B[49m\u001B[43m \u001B[49m\u001B[43mbuffer\u001B[49m\u001B[43m)\u001B[49m\n\u001B[0;32m   1250\u001B[0m \u001B[38;5;28;01melse\u001B[39;00m:\n",
      "File \u001B[1;32m~\\AppData\\Local\\Programs\\Python\\Python312\\Lib\\ssl.py:1105\u001B[0m, in \u001B[0;36mSSLSocket.read\u001B[1;34m(self, len, buffer)\u001B[0m\n\u001B[0;32m   1104\u001B[0m \u001B[38;5;28;01mif\u001B[39;00m buffer \u001B[38;5;129;01mis\u001B[39;00m \u001B[38;5;129;01mnot\u001B[39;00m \u001B[38;5;28;01mNone\u001B[39;00m:\n\u001B[1;32m-> 1105\u001B[0m     \u001B[38;5;28;01mreturn\u001B[39;00m \u001B[38;5;28;43mself\u001B[39;49m\u001B[38;5;241;43m.\u001B[39;49m\u001B[43m_sslobj\u001B[49m\u001B[38;5;241;43m.\u001B[39;49m\u001B[43mread\u001B[49m\u001B[43m(\u001B[49m\u001B[38;5;28;43mlen\u001B[39;49m\u001B[43m,\u001B[49m\u001B[43m \u001B[49m\u001B[43mbuffer\u001B[49m\u001B[43m)\u001B[49m\n\u001B[0;32m   1106\u001B[0m \u001B[38;5;28;01melse\u001B[39;00m:\n",
      "\u001B[1;31mTimeoutError\u001B[0m: The read operation timed out",
      "\nDuring handling of the above exception, another exception occurred:\n",
      "\u001B[1;31mKeyboardInterrupt\u001B[0m                         Traceback (most recent call last)",
      "Cell \u001B[1;32mIn[7], line 18\u001B[0m\n\u001B[0;32m     16\u001B[0m \u001B[38;5;28;01mfor\u001B[39;00m domain \u001B[38;5;129;01min\u001B[39;00m data[\u001B[38;5;124m\"\u001B[39m\u001B[38;5;124mDomain\u001B[39m\u001B[38;5;124m\"\u001B[39m]:\n\u001B[0;32m     17\u001B[0m     url \u001B[38;5;241m=\u001B[39m \u001B[38;5;124mf\u001B[39m\u001B[38;5;124m\"\u001B[39m\u001B[38;5;124mhttps://\u001B[39m\u001B[38;5;132;01m{\u001B[39;00mdomain\u001B[38;5;132;01m}\u001B[39;00m\u001B[38;5;124m\"\u001B[39m\n\u001B[1;32m---> 18\u001B[0m     websites_parameters[domain] \u001B[38;5;241m=\u001B[39m \u001B[43mprocess_extractors\u001B[49m\u001B[43m(\u001B[49m\u001B[43murl\u001B[49m\u001B[43m,\u001B[49m\u001B[43m \u001B[49m\u001B[43mextractors\u001B[49m\u001B[43m,\u001B[49m\u001B[43m \u001B[49m\u001B[43muse_only_numerical\u001B[49m\u001B[38;5;241;43m=\u001B[39;49m\u001B[38;5;28;43;01mTrue\u001B[39;49;00m\u001B[43m)\u001B[49m\n\u001B[0;32m     20\u001B[0m \u001B[38;5;28;01mwith\u001B[39;00m \u001B[38;5;28mopen\u001B[39m(\u001B[38;5;124m'\u001B[39m\u001B[38;5;124mdataset.csv\u001B[39m\u001B[38;5;124m'\u001B[39m, \u001B[38;5;124m'\u001B[39m\u001B[38;5;124mw\u001B[39m\u001B[38;5;124m'\u001B[39m, newline\u001B[38;5;241m=\u001B[39m\u001B[38;5;124m'\u001B[39m\u001B[38;5;124m'\u001B[39m) \u001B[38;5;28;01mas\u001B[39;00m file:\n\u001B[0;32m     21\u001B[0m     fieldnames \u001B[38;5;241m=\u001B[39m [\u001B[38;5;124m\"\u001B[39m\u001B[38;5;124mDomain\u001B[39m\u001B[38;5;124m\"\u001B[39m] \u001B[38;5;241m+\u001B[39m \u001B[38;5;28mlist\u001B[39m(\n\u001B[0;32m     22\u001B[0m         \u001B[38;5;28mnext\u001B[39m(\u001B[38;5;28miter\u001B[39m(websites_parameters\u001B[38;5;241m.\u001B[39mvalues()))\u001B[38;5;241m.\u001B[39mkeys())\n",
      "File \u001B[1;32mD:\\repozytoria\\web2vec\\src\\web2vec\\crawlers\\extractors.py:228\u001B[0m, in \u001B[0;36mprocess_extractors\u001B[1;34m(url, extractors, use_only_numerical)\u001B[0m\n\u001B[0;32m    226\u001B[0m extractors_result \u001B[38;5;241m=\u001B[39m {}\n\u001B[0;32m    227\u001B[0m \u001B[38;5;28;01mtry\u001B[39;00m:\n\u001B[1;32m--> 228\u001B[0m     response \u001B[38;5;241m=\u001B[39m \u001B[43mfetch_url\u001B[49m\u001B[43m(\u001B[49m\u001B[43murl\u001B[49m\u001B[43m)\u001B[49m\n\u001B[0;32m    230\u001B[0m     \u001B[38;5;28;01mfor\u001B[39;00m extractor \u001B[38;5;129;01min\u001B[39;00m extractors:\n\u001B[0;32m    231\u001B[0m         \u001B[38;5;28;01mtry\u001B[39;00m:\n",
      "File \u001B[1;32mD:\\repozytoria\\web2vec\\src\\web2vec\\utils.py:97\u001B[0m, in \u001B[0;36mfetch_url\u001B[1;34m(url, headers)\u001B[0m\n\u001B[0;32m     95\u001B[0m headers \u001B[38;5;241m=\u001B[39m headers \u001B[38;5;129;01mor\u001B[39;00m {}\n\u001B[0;32m     96\u001B[0m headers \u001B[38;5;241m=\u001B[39m {\u001B[38;5;241m*\u001B[39m\u001B[38;5;241m*\u001B[39mDEFAULT_HEADERS, \u001B[38;5;241m*\u001B[39m\u001B[38;5;241m*\u001B[39mheaders}\n\u001B[1;32m---> 97\u001B[0m \u001B[38;5;28;01mreturn\u001B[39;00m \u001B[43mrequests\u001B[49m\u001B[38;5;241;43m.\u001B[39;49m\u001B[43mget\u001B[49m\u001B[43m(\u001B[49m\u001B[43murl\u001B[49m\u001B[43m,\u001B[49m\u001B[43m \u001B[49m\u001B[43mheaders\u001B[49m\u001B[38;5;241;43m=\u001B[39;49m\u001B[43mheaders\u001B[49m\u001B[43m,\u001B[49m\u001B[43m \u001B[49m\u001B[43mtimeout\u001B[49m\u001B[38;5;241;43m=\u001B[39;49m\u001B[43mconfig\u001B[49m\u001B[38;5;241;43m.\u001B[39;49m\u001B[43mapi_timeout\u001B[49m\u001B[43m,\u001B[49m\n\u001B[0;32m     98\u001B[0m \u001B[43m                    \u001B[49m\u001B[43mallow_redirects\u001B[49m\u001B[38;5;241;43m=\u001B[39;49m\u001B[38;5;28;43;01mTrue\u001B[39;49;00m\u001B[43m,\u001B[49m\u001B[43m \u001B[49m\u001B[43mverify\u001B[49m\u001B[38;5;241;43m=\u001B[39;49m\u001B[38;5;28;43;01mFalse\u001B[39;49;00m\u001B[43m)\u001B[49m\n",
      "File \u001B[1;32mD:\\repozytoria\\web2vec\\.venv\\Lib\\site-packages\\requests\\api.py:73\u001B[0m, in \u001B[0;36mget\u001B[1;34m(url, params, **kwargs)\u001B[0m\n\u001B[0;32m     62\u001B[0m \u001B[38;5;28;01mdef\u001B[39;00m \u001B[38;5;21mget\u001B[39m(url, params\u001B[38;5;241m=\u001B[39m\u001B[38;5;28;01mNone\u001B[39;00m, \u001B[38;5;241m*\u001B[39m\u001B[38;5;241m*\u001B[39mkwargs):\n\u001B[0;32m     63\u001B[0m \u001B[38;5;250m    \u001B[39m\u001B[38;5;124mr\u001B[39m\u001B[38;5;124;03m\"\"\"Sends a GET request.\u001B[39;00m\n\u001B[0;32m     64\u001B[0m \n\u001B[0;32m     65\u001B[0m \u001B[38;5;124;03m    :param url: URL for the new :class:`Request` object.\u001B[39;00m\n\u001B[1;32m   (...)\u001B[0m\n\u001B[0;32m     70\u001B[0m \u001B[38;5;124;03m    :rtype: requests.Response\u001B[39;00m\n\u001B[0;32m     71\u001B[0m \u001B[38;5;124;03m    \"\"\"\u001B[39;00m\n\u001B[1;32m---> 73\u001B[0m     \u001B[38;5;28;01mreturn\u001B[39;00m \u001B[43mrequest\u001B[49m\u001B[43m(\u001B[49m\u001B[38;5;124;43m\"\u001B[39;49m\u001B[38;5;124;43mget\u001B[39;49m\u001B[38;5;124;43m\"\u001B[39;49m\u001B[43m,\u001B[49m\u001B[43m \u001B[49m\u001B[43murl\u001B[49m\u001B[43m,\u001B[49m\u001B[43m \u001B[49m\u001B[43mparams\u001B[49m\u001B[38;5;241;43m=\u001B[39;49m\u001B[43mparams\u001B[49m\u001B[43m,\u001B[49m\u001B[43m \u001B[49m\u001B[38;5;241;43m*\u001B[39;49m\u001B[38;5;241;43m*\u001B[39;49m\u001B[43mkwargs\u001B[49m\u001B[43m)\u001B[49m\n",
      "File \u001B[1;32mD:\\repozytoria\\web2vec\\.venv\\Lib\\site-packages\\requests\\api.py:59\u001B[0m, in \u001B[0;36mrequest\u001B[1;34m(method, url, **kwargs)\u001B[0m\n\u001B[0;32m     55\u001B[0m \u001B[38;5;66;03m# By using the 'with' statement we are sure the session is closed, thus we\u001B[39;00m\n\u001B[0;32m     56\u001B[0m \u001B[38;5;66;03m# avoid leaving sockets open which can trigger a ResourceWarning in some\u001B[39;00m\n\u001B[0;32m     57\u001B[0m \u001B[38;5;66;03m# cases, and look like a memory leak in others.\u001B[39;00m\n\u001B[0;32m     58\u001B[0m \u001B[38;5;28;01mwith\u001B[39;00m sessions\u001B[38;5;241m.\u001B[39mSession() \u001B[38;5;28;01mas\u001B[39;00m session:\n\u001B[1;32m---> 59\u001B[0m     \u001B[38;5;28;01mreturn\u001B[39;00m \u001B[43msession\u001B[49m\u001B[38;5;241;43m.\u001B[39;49m\u001B[43mrequest\u001B[49m\u001B[43m(\u001B[49m\u001B[43mmethod\u001B[49m\u001B[38;5;241;43m=\u001B[39;49m\u001B[43mmethod\u001B[49m\u001B[43m,\u001B[49m\u001B[43m \u001B[49m\u001B[43murl\u001B[49m\u001B[38;5;241;43m=\u001B[39;49m\u001B[43murl\u001B[49m\u001B[43m,\u001B[49m\u001B[43m \u001B[49m\u001B[38;5;241;43m*\u001B[39;49m\u001B[38;5;241;43m*\u001B[39;49m\u001B[43mkwargs\u001B[49m\u001B[43m)\u001B[49m\n",
      "File \u001B[1;32mD:\\repozytoria\\web2vec\\.venv\\Lib\\site-packages\\requests\\sessions.py:589\u001B[0m, in \u001B[0;36mSession.request\u001B[1;34m(self, method, url, params, data, headers, cookies, files, auth, timeout, allow_redirects, proxies, hooks, stream, verify, cert, json)\u001B[0m\n\u001B[0;32m    584\u001B[0m send_kwargs \u001B[38;5;241m=\u001B[39m {\n\u001B[0;32m    585\u001B[0m     \u001B[38;5;124m\"\u001B[39m\u001B[38;5;124mtimeout\u001B[39m\u001B[38;5;124m\"\u001B[39m: timeout,\n\u001B[0;32m    586\u001B[0m     \u001B[38;5;124m\"\u001B[39m\u001B[38;5;124mallow_redirects\u001B[39m\u001B[38;5;124m\"\u001B[39m: allow_redirects,\n\u001B[0;32m    587\u001B[0m }\n\u001B[0;32m    588\u001B[0m send_kwargs\u001B[38;5;241m.\u001B[39mupdate(settings)\n\u001B[1;32m--> 589\u001B[0m resp \u001B[38;5;241m=\u001B[39m \u001B[38;5;28;43mself\u001B[39;49m\u001B[38;5;241;43m.\u001B[39;49m\u001B[43msend\u001B[49m\u001B[43m(\u001B[49m\u001B[43mprep\u001B[49m\u001B[43m,\u001B[49m\u001B[43m \u001B[49m\u001B[38;5;241;43m*\u001B[39;49m\u001B[38;5;241;43m*\u001B[39;49m\u001B[43msend_kwargs\u001B[49m\u001B[43m)\u001B[49m\n\u001B[0;32m    591\u001B[0m \u001B[38;5;28;01mreturn\u001B[39;00m resp\n",
      "File \u001B[1;32mD:\\repozytoria\\web2vec\\.venv\\Lib\\site-packages\\requests\\sessions.py:724\u001B[0m, in \u001B[0;36mSession.send\u001B[1;34m(self, request, **kwargs)\u001B[0m\n\u001B[0;32m    721\u001B[0m \u001B[38;5;28;01mif\u001B[39;00m allow_redirects:\n\u001B[0;32m    722\u001B[0m     \u001B[38;5;66;03m# Redirect resolving generator.\u001B[39;00m\n\u001B[0;32m    723\u001B[0m     gen \u001B[38;5;241m=\u001B[39m \u001B[38;5;28mself\u001B[39m\u001B[38;5;241m.\u001B[39mresolve_redirects(r, request, \u001B[38;5;241m*\u001B[39m\u001B[38;5;241m*\u001B[39mkwargs)\n\u001B[1;32m--> 724\u001B[0m     history \u001B[38;5;241m=\u001B[39m \u001B[43m[\u001B[49m\u001B[43mresp\u001B[49m\u001B[43m \u001B[49m\u001B[38;5;28;43;01mfor\u001B[39;49;00m\u001B[43m \u001B[49m\u001B[43mresp\u001B[49m\u001B[43m \u001B[49m\u001B[38;5;129;43;01min\u001B[39;49;00m\u001B[43m \u001B[49m\u001B[43mgen\u001B[49m\u001B[43m]\u001B[49m\n\u001B[0;32m    725\u001B[0m \u001B[38;5;28;01melse\u001B[39;00m:\n\u001B[0;32m    726\u001B[0m     history \u001B[38;5;241m=\u001B[39m []\n",
      "File \u001B[1;32mD:\\repozytoria\\web2vec\\.venv\\Lib\\site-packages\\requests\\sessions.py:265\u001B[0m, in \u001B[0;36mSessionRedirectMixin.resolve_redirects\u001B[1;34m(self, resp, req, stream, timeout, verify, cert, proxies, yield_requests, **adapter_kwargs)\u001B[0m\n\u001B[0;32m    263\u001B[0m     \u001B[38;5;28;01myield\u001B[39;00m req\n\u001B[0;32m    264\u001B[0m \u001B[38;5;28;01melse\u001B[39;00m:\n\u001B[1;32m--> 265\u001B[0m     resp \u001B[38;5;241m=\u001B[39m \u001B[38;5;28;43mself\u001B[39;49m\u001B[38;5;241;43m.\u001B[39;49m\u001B[43msend\u001B[49m\u001B[43m(\u001B[49m\n\u001B[0;32m    266\u001B[0m \u001B[43m        \u001B[49m\u001B[43mreq\u001B[49m\u001B[43m,\u001B[49m\n\u001B[0;32m    267\u001B[0m \u001B[43m        \u001B[49m\u001B[43mstream\u001B[49m\u001B[38;5;241;43m=\u001B[39;49m\u001B[43mstream\u001B[49m\u001B[43m,\u001B[49m\n\u001B[0;32m    268\u001B[0m \u001B[43m        \u001B[49m\u001B[43mtimeout\u001B[49m\u001B[38;5;241;43m=\u001B[39;49m\u001B[43mtimeout\u001B[49m\u001B[43m,\u001B[49m\n\u001B[0;32m    269\u001B[0m \u001B[43m        \u001B[49m\u001B[43mverify\u001B[49m\u001B[38;5;241;43m=\u001B[39;49m\u001B[43mverify\u001B[49m\u001B[43m,\u001B[49m\n\u001B[0;32m    270\u001B[0m \u001B[43m        \u001B[49m\u001B[43mcert\u001B[49m\u001B[38;5;241;43m=\u001B[39;49m\u001B[43mcert\u001B[49m\u001B[43m,\u001B[49m\n\u001B[0;32m    271\u001B[0m \u001B[43m        \u001B[49m\u001B[43mproxies\u001B[49m\u001B[38;5;241;43m=\u001B[39;49m\u001B[43mproxies\u001B[49m\u001B[43m,\u001B[49m\n\u001B[0;32m    272\u001B[0m \u001B[43m        \u001B[49m\u001B[43mallow_redirects\u001B[49m\u001B[38;5;241;43m=\u001B[39;49m\u001B[38;5;28;43;01mFalse\u001B[39;49;00m\u001B[43m,\u001B[49m\n\u001B[0;32m    273\u001B[0m \u001B[43m        \u001B[49m\u001B[38;5;241;43m*\u001B[39;49m\u001B[38;5;241;43m*\u001B[39;49m\u001B[43madapter_kwargs\u001B[49m\u001B[43m,\u001B[49m\n\u001B[0;32m    274\u001B[0m \u001B[43m    \u001B[49m\u001B[43m)\u001B[49m\n\u001B[0;32m    276\u001B[0m     extract_cookies_to_jar(\u001B[38;5;28mself\u001B[39m\u001B[38;5;241m.\u001B[39mcookies, prepared_request, resp\u001B[38;5;241m.\u001B[39mraw)\n\u001B[0;32m    278\u001B[0m     \u001B[38;5;66;03m# extract redirect url, if any, for the next loop\u001B[39;00m\n",
      "File \u001B[1;32mD:\\repozytoria\\web2vec\\.venv\\Lib\\site-packages\\requests\\sessions.py:703\u001B[0m, in \u001B[0;36mSession.send\u001B[1;34m(self, request, **kwargs)\u001B[0m\n\u001B[0;32m    700\u001B[0m start \u001B[38;5;241m=\u001B[39m preferred_clock()\n\u001B[0;32m    702\u001B[0m \u001B[38;5;66;03m# Send the request\u001B[39;00m\n\u001B[1;32m--> 703\u001B[0m r \u001B[38;5;241m=\u001B[39m \u001B[43madapter\u001B[49m\u001B[38;5;241;43m.\u001B[39;49m\u001B[43msend\u001B[49m\u001B[43m(\u001B[49m\u001B[43mrequest\u001B[49m\u001B[43m,\u001B[49m\u001B[43m \u001B[49m\u001B[38;5;241;43m*\u001B[39;49m\u001B[38;5;241;43m*\u001B[39;49m\u001B[43mkwargs\u001B[49m\u001B[43m)\u001B[49m\n\u001B[0;32m    705\u001B[0m \u001B[38;5;66;03m# Total elapsed time of the request (approximately)\u001B[39;00m\n\u001B[0;32m    706\u001B[0m elapsed \u001B[38;5;241m=\u001B[39m preferred_clock() \u001B[38;5;241m-\u001B[39m start\n",
      "File \u001B[1;32mD:\\repozytoria\\web2vec\\.venv\\Lib\\site-packages\\requests\\adapters.py:667\u001B[0m, in \u001B[0;36mHTTPAdapter.send\u001B[1;34m(self, request, stream, timeout, verify, cert, proxies)\u001B[0m\n\u001B[0;32m    664\u001B[0m     timeout \u001B[38;5;241m=\u001B[39m TimeoutSauce(connect\u001B[38;5;241m=\u001B[39mtimeout, read\u001B[38;5;241m=\u001B[39mtimeout)\n\u001B[0;32m    666\u001B[0m \u001B[38;5;28;01mtry\u001B[39;00m:\n\u001B[1;32m--> 667\u001B[0m     resp \u001B[38;5;241m=\u001B[39m \u001B[43mconn\u001B[49m\u001B[38;5;241;43m.\u001B[39;49m\u001B[43murlopen\u001B[49m\u001B[43m(\u001B[49m\n\u001B[0;32m    668\u001B[0m \u001B[43m        \u001B[49m\u001B[43mmethod\u001B[49m\u001B[38;5;241;43m=\u001B[39;49m\u001B[43mrequest\u001B[49m\u001B[38;5;241;43m.\u001B[39;49m\u001B[43mmethod\u001B[49m\u001B[43m,\u001B[49m\n\u001B[0;32m    669\u001B[0m \u001B[43m        \u001B[49m\u001B[43murl\u001B[49m\u001B[38;5;241;43m=\u001B[39;49m\u001B[43murl\u001B[49m\u001B[43m,\u001B[49m\n\u001B[0;32m    670\u001B[0m \u001B[43m        \u001B[49m\u001B[43mbody\u001B[49m\u001B[38;5;241;43m=\u001B[39;49m\u001B[43mrequest\u001B[49m\u001B[38;5;241;43m.\u001B[39;49m\u001B[43mbody\u001B[49m\u001B[43m,\u001B[49m\n\u001B[0;32m    671\u001B[0m \u001B[43m        \u001B[49m\u001B[43mheaders\u001B[49m\u001B[38;5;241;43m=\u001B[39;49m\u001B[43mrequest\u001B[49m\u001B[38;5;241;43m.\u001B[39;49m\u001B[43mheaders\u001B[49m\u001B[43m,\u001B[49m\n\u001B[0;32m    672\u001B[0m \u001B[43m        \u001B[49m\u001B[43mredirect\u001B[49m\u001B[38;5;241;43m=\u001B[39;49m\u001B[38;5;28;43;01mFalse\u001B[39;49;00m\u001B[43m,\u001B[49m\n\u001B[0;32m    673\u001B[0m \u001B[43m        \u001B[49m\u001B[43massert_same_host\u001B[49m\u001B[38;5;241;43m=\u001B[39;49m\u001B[38;5;28;43;01mFalse\u001B[39;49;00m\u001B[43m,\u001B[49m\n\u001B[0;32m    674\u001B[0m \u001B[43m        \u001B[49m\u001B[43mpreload_content\u001B[49m\u001B[38;5;241;43m=\u001B[39;49m\u001B[38;5;28;43;01mFalse\u001B[39;49;00m\u001B[43m,\u001B[49m\n\u001B[0;32m    675\u001B[0m \u001B[43m        \u001B[49m\u001B[43mdecode_content\u001B[49m\u001B[38;5;241;43m=\u001B[39;49m\u001B[38;5;28;43;01mFalse\u001B[39;49;00m\u001B[43m,\u001B[49m\n\u001B[0;32m    676\u001B[0m \u001B[43m        \u001B[49m\u001B[43mretries\u001B[49m\u001B[38;5;241;43m=\u001B[39;49m\u001B[38;5;28;43mself\u001B[39;49m\u001B[38;5;241;43m.\u001B[39;49m\u001B[43mmax_retries\u001B[49m\u001B[43m,\u001B[49m\n\u001B[0;32m    677\u001B[0m \u001B[43m        \u001B[49m\u001B[43mtimeout\u001B[49m\u001B[38;5;241;43m=\u001B[39;49m\u001B[43mtimeout\u001B[49m\u001B[43m,\u001B[49m\n\u001B[0;32m    678\u001B[0m \u001B[43m        \u001B[49m\u001B[43mchunked\u001B[49m\u001B[38;5;241;43m=\u001B[39;49m\u001B[43mchunked\u001B[49m\u001B[43m,\u001B[49m\n\u001B[0;32m    679\u001B[0m \u001B[43m    \u001B[49m\u001B[43m)\u001B[49m\n\u001B[0;32m    681\u001B[0m \u001B[38;5;28;01mexcept\u001B[39;00m (ProtocolError, \u001B[38;5;167;01mOSError\u001B[39;00m) \u001B[38;5;28;01mas\u001B[39;00m err:\n\u001B[0;32m    682\u001B[0m     \u001B[38;5;28;01mraise\u001B[39;00m \u001B[38;5;167;01mConnectionError\u001B[39;00m(err, request\u001B[38;5;241m=\u001B[39mrequest)\n",
      "File \u001B[1;32mD:\\repozytoria\\web2vec\\.venv\\Lib\\site-packages\\urllib3\\connectionpool.py:789\u001B[0m, in \u001B[0;36mHTTPConnectionPool.urlopen\u001B[1;34m(self, method, url, body, headers, retries, redirect, assert_same_host, timeout, pool_timeout, release_conn, chunked, body_pos, preload_content, decode_content, **response_kw)\u001B[0m\n\u001B[0;32m    786\u001B[0m response_conn \u001B[38;5;241m=\u001B[39m conn \u001B[38;5;28;01mif\u001B[39;00m \u001B[38;5;129;01mnot\u001B[39;00m release_conn \u001B[38;5;28;01melse\u001B[39;00m \u001B[38;5;28;01mNone\u001B[39;00m\n\u001B[0;32m    788\u001B[0m \u001B[38;5;66;03m# Make the request on the HTTPConnection object\u001B[39;00m\n\u001B[1;32m--> 789\u001B[0m response \u001B[38;5;241m=\u001B[39m \u001B[38;5;28;43mself\u001B[39;49m\u001B[38;5;241;43m.\u001B[39;49m\u001B[43m_make_request\u001B[49m\u001B[43m(\u001B[49m\n\u001B[0;32m    790\u001B[0m \u001B[43m    \u001B[49m\u001B[43mconn\u001B[49m\u001B[43m,\u001B[49m\n\u001B[0;32m    791\u001B[0m \u001B[43m    \u001B[49m\u001B[43mmethod\u001B[49m\u001B[43m,\u001B[49m\n\u001B[0;32m    792\u001B[0m \u001B[43m    \u001B[49m\u001B[43murl\u001B[49m\u001B[43m,\u001B[49m\n\u001B[0;32m    793\u001B[0m \u001B[43m    \u001B[49m\u001B[43mtimeout\u001B[49m\u001B[38;5;241;43m=\u001B[39;49m\u001B[43mtimeout_obj\u001B[49m\u001B[43m,\u001B[49m\n\u001B[0;32m    794\u001B[0m \u001B[43m    \u001B[49m\u001B[43mbody\u001B[49m\u001B[38;5;241;43m=\u001B[39;49m\u001B[43mbody\u001B[49m\u001B[43m,\u001B[49m\n\u001B[0;32m    795\u001B[0m \u001B[43m    \u001B[49m\u001B[43mheaders\u001B[49m\u001B[38;5;241;43m=\u001B[39;49m\u001B[43mheaders\u001B[49m\u001B[43m,\u001B[49m\n\u001B[0;32m    796\u001B[0m \u001B[43m    \u001B[49m\u001B[43mchunked\u001B[49m\u001B[38;5;241;43m=\u001B[39;49m\u001B[43mchunked\u001B[49m\u001B[43m,\u001B[49m\n\u001B[0;32m    797\u001B[0m \u001B[43m    \u001B[49m\u001B[43mretries\u001B[49m\u001B[38;5;241;43m=\u001B[39;49m\u001B[43mretries\u001B[49m\u001B[43m,\u001B[49m\n\u001B[0;32m    798\u001B[0m \u001B[43m    \u001B[49m\u001B[43mresponse_conn\u001B[49m\u001B[38;5;241;43m=\u001B[39;49m\u001B[43mresponse_conn\u001B[49m\u001B[43m,\u001B[49m\n\u001B[0;32m    799\u001B[0m \u001B[43m    \u001B[49m\u001B[43mpreload_content\u001B[49m\u001B[38;5;241;43m=\u001B[39;49m\u001B[43mpreload_content\u001B[49m\u001B[43m,\u001B[49m\n\u001B[0;32m    800\u001B[0m \u001B[43m    \u001B[49m\u001B[43mdecode_content\u001B[49m\u001B[38;5;241;43m=\u001B[39;49m\u001B[43mdecode_content\u001B[49m\u001B[43m,\u001B[49m\n\u001B[0;32m    801\u001B[0m \u001B[43m    \u001B[49m\u001B[38;5;241;43m*\u001B[39;49m\u001B[38;5;241;43m*\u001B[39;49m\u001B[43mresponse_kw\u001B[49m\u001B[43m,\u001B[49m\n\u001B[0;32m    802\u001B[0m \u001B[43m\u001B[49m\u001B[43m)\u001B[49m\n\u001B[0;32m    804\u001B[0m \u001B[38;5;66;03m# Everything went great!\u001B[39;00m\n\u001B[0;32m    805\u001B[0m clean_exit \u001B[38;5;241m=\u001B[39m \u001B[38;5;28;01mTrue\u001B[39;00m\n",
      "File \u001B[1;32mD:\\repozytoria\\web2vec\\.venv\\Lib\\site-packages\\urllib3\\connectionpool.py:536\u001B[0m, in \u001B[0;36mHTTPConnectionPool._make_request\u001B[1;34m(self, conn, method, url, body, headers, retries, timeout, chunked, response_conn, preload_content, decode_content, enforce_content_length)\u001B[0m\n\u001B[0;32m    534\u001B[0m \u001B[38;5;66;03m# Receive the response from the server\u001B[39;00m\n\u001B[0;32m    535\u001B[0m \u001B[38;5;28;01mtry\u001B[39;00m:\n\u001B[1;32m--> 536\u001B[0m     response \u001B[38;5;241m=\u001B[39m \u001B[43mconn\u001B[49m\u001B[38;5;241;43m.\u001B[39;49m\u001B[43mgetresponse\u001B[49m\u001B[43m(\u001B[49m\u001B[43m)\u001B[49m\n\u001B[0;32m    537\u001B[0m \u001B[38;5;28;01mexcept\u001B[39;00m (BaseSSLError, \u001B[38;5;167;01mOSError\u001B[39;00m) \u001B[38;5;28;01mas\u001B[39;00m e:\n\u001B[0;32m    538\u001B[0m     \u001B[38;5;28mself\u001B[39m\u001B[38;5;241m.\u001B[39m_raise_timeout(err\u001B[38;5;241m=\u001B[39me, url\u001B[38;5;241m=\u001B[39murl, timeout_value\u001B[38;5;241m=\u001B[39mread_timeout)\n",
      "File \u001B[1;32mD:\\repozytoria\\web2vec\\.venv\\Lib\\site-packages\\urllib3\\connection.py:507\u001B[0m, in \u001B[0;36mHTTPConnection.getresponse\u001B[1;34m(self)\u001B[0m\n\u001B[0;32m    504\u001B[0m \u001B[38;5;28;01mfrom\u001B[39;00m \u001B[38;5;21;01m.\u001B[39;00m\u001B[38;5;21;01mresponse\u001B[39;00m \u001B[38;5;28;01mimport\u001B[39;00m HTTPResponse\n\u001B[0;32m    506\u001B[0m \u001B[38;5;66;03m# Get the response from http.client.HTTPConnection\u001B[39;00m\n\u001B[1;32m--> 507\u001B[0m httplib_response \u001B[38;5;241m=\u001B[39m \u001B[38;5;28;43msuper\u001B[39;49m\u001B[43m(\u001B[49m\u001B[43m)\u001B[49m\u001B[38;5;241;43m.\u001B[39;49m\u001B[43mgetresponse\u001B[49m\u001B[43m(\u001B[49m\u001B[43m)\u001B[49m\n\u001B[0;32m    509\u001B[0m \u001B[38;5;28;01mtry\u001B[39;00m:\n\u001B[0;32m    510\u001B[0m     assert_header_parsing(httplib_response\u001B[38;5;241m.\u001B[39mmsg)\n",
      "File \u001B[1;32m~\\AppData\\Local\\Programs\\Python\\Python312\\Lib\\http\\client.py:1427\u001B[0m, in \u001B[0;36mHTTPConnection.getresponse\u001B[1;34m(self)\u001B[0m\n\u001B[0;32m   1425\u001B[0m     \u001B[38;5;28;01mreturn\u001B[39;00m response\n\u001B[0;32m   1426\u001B[0m \u001B[38;5;28;01mexcept\u001B[39;00m:\n\u001B[1;32m-> 1427\u001B[0m     \u001B[43mresponse\u001B[49m\u001B[38;5;241;43m.\u001B[39;49m\u001B[43mclose\u001B[49m\u001B[43m(\u001B[49m\u001B[43m)\u001B[49m\n\u001B[0;32m   1428\u001B[0m     \u001B[38;5;28;01mraise\u001B[39;00m\n",
      "File \u001B[1;32m~\\AppData\\Local\\Programs\\Python\\Python312\\Lib\\http\\client.py:423\u001B[0m, in \u001B[0;36mHTTPResponse.close\u001B[1;34m(self)\u001B[0m\n\u001B[0;32m    420\u001B[0m     \u001B[38;5;28mself\u001B[39m\u001B[38;5;241m.\u001B[39mfp \u001B[38;5;241m=\u001B[39m \u001B[38;5;28;01mNone\u001B[39;00m\n\u001B[0;32m    421\u001B[0m     fp\u001B[38;5;241m.\u001B[39mclose()\n\u001B[1;32m--> 423\u001B[0m \u001B[38;5;28;01mdef\u001B[39;00m \u001B[38;5;21mclose\u001B[39m(\u001B[38;5;28mself\u001B[39m):\n\u001B[0;32m    424\u001B[0m     \u001B[38;5;28;01mtry\u001B[39;00m:\n\u001B[0;32m    425\u001B[0m         \u001B[38;5;28msuper\u001B[39m()\u001B[38;5;241m.\u001B[39mclose() \u001B[38;5;66;03m# set \"closed\" flag\u001B[39;00m\n",
      "\u001B[1;31mKeyboardInterrupt\u001B[0m: "
     ]
    }
   ],
   "execution_count": 7
  },
  {
   "metadata": {},
   "cell_type": "raw",
   "source": "\n",
   "id": "e15ec8ae7cda9b1"
  },
  {
   "metadata": {},
   "cell_type": "markdown",
   "source": [
    "# What next\n",
    "You have your dataset, now you can train your ML models, see [Sample ML script](train_ml.ipynb)"
   ],
   "id": "49151c54ee5b5f50"
  },
  {
   "metadata": {},
   "cell_type": "markdown",
   "source": "",
   "id": "e3beda159df26657"
  },
  {
   "metadata": {},
   "cell_type": "code",
   "outputs": [],
   "execution_count": null,
   "source": "",
   "id": "cf6213d594957293"
  }
 ],
 "metadata": {
  "kernelspec": {
   "display_name": "Python 3",
   "language": "python",
   "name": "python3"
  },
  "language_info": {
   "codemirror_mode": {
    "name": "ipython",
    "version": 2
   },
   "file_extension": ".py",
   "mimetype": "text/x-python",
   "name": "python",
   "nbconvert_exporter": "python",
   "pygments_lexer": "ipython2",
   "version": "2.7.6"
  }
 },
 "nbformat": 4,
 "nbformat_minor": 5
}
