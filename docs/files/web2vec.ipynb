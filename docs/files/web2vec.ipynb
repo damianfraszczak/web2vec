{
 "cells": [
  {
   "cell_type": "markdown",
   "id": "8201518347de614b",
   "metadata": {
    "collapsed": false
   },
   "source": [
    "# Introduction to Web2Vec: Website to vector representation library\n",
    "Web2Vec is a comprehensive library designed to convert websites into vector parameters. It provides ready-to-use implementations of web crawlers using Scrapy, making it accessible for less experienced researchers. This tool is invaluable for website analysis tasks, including SEO, disinformation detection, and phishing identification.\n",
    "\n",
    "\n",
    "The goal of Web2Vec is to offer a comprehensive repository for implementing a broad spectrum of website processing-related methods. Many available tools exist, but learning and using them can be time-consuming. Moreover, new features are continually being introduced, making it difficult to keep up with the latest techniques. Web2Vec aims to bridge this gap by providing a complete solution for website analysis. This repository facilitates the collection and analysis of extensive information about websites, supporting both academic research and industry applications."
   ]
  },
  {
   "cell_type": "markdown",
   "id": "d8258e3ea1ca90fc",
   "metadata": {
    "collapsed": false
   },
   "source": [
    "## Table of Contents\n",
    "\n",
    "### 1. [Installation](#Installation)\n",
    "### 2. [Usage](#Usage)\n",
    "### 3. [Conclusion](#Conclusion)\n"
   ]
  },
  {
   "cell_type": "markdown",
   "id": "58bcba1df3d0e49c",
   "metadata": {
    "collapsed": false
   },
   "source": [
    "## Installation\n",
    "To install web2vec, you can use pip:\n"
   ]
  },
  {
   "cell_type": "code",
   "id": "b381088ebcc58325",
   "metadata": {
    "collapsed": false,
    "ExecuteTime": {
     "end_time": "2024-07-23T11:43:21.774701500Z",
     "start_time": "2024-07-23T11:43:19.563964100Z"
    }
   },
   "outputs": [
    {
     "name": "stdout",
     "output_type": "stream",
     "text": [
      "Requirement already satisfied: web2vec in c:\\users\\administrator\\pycharmprojects\\zdalneg\\web2vec\\src (0.1.0)\n",
      "Requirement already satisfied: scrapy in c:\\users\\administrator\\pycharmprojects\\zdalneg\\web2vec\\.venv\\lib\\site-packages (from web2vec) (2.11.2)\n",
      "Requirement already satisfied: networkx in c:\\users\\administrator\\pycharmprojects\\zdalneg\\web2vec\\.venv\\lib\\site-packages (from web2vec) (3.3)\n",
      "Requirement already satisfied: beautifulsoup4 in c:\\users\\administrator\\pycharmprojects\\zdalneg\\web2vec\\.venv\\lib\\site-packages (from web2vec) (4.12.3)\n",
      "Requirement already satisfied: matplotlib in c:\\users\\administrator\\pycharmprojects\\zdalneg\\web2vec\\.venv\\lib\\site-packages (from web2vec) (3.9.1)\n",
      "Requirement already satisfied: scipy in c:\\users\\administrator\\pycharmprojects\\zdalneg\\web2vec\\.venv\\lib\\site-packages (from web2vec) (1.14.0)\n",
      "Requirement already satisfied: python-whois in c:\\users\\administrator\\pycharmprojects\\zdalneg\\web2vec\\.venv\\lib\\site-packages (from web2vec) (0.9.4)\n",
      "Requirement already satisfied: dnspython in c:\\users\\administrator\\pycharmprojects\\zdalneg\\web2vec\\.venv\\lib\\site-packages (from web2vec) (2.6.1)\n",
      "Requirement already satisfied: geoip2 in c:\\users\\administrator\\pycharmprojects\\zdalneg\\web2vec\\.venv\\lib\\site-packages (from web2vec) (4.8.0)\n",
      "Requirement already satisfied: tldextract in c:\\users\\administrator\\pycharmprojects\\zdalneg\\web2vec\\.venv\\lib\\site-packages (from web2vec) (5.1.2)\n",
      "Requirement already satisfied: selenium in c:\\users\\administrator\\pycharmprojects\\zdalneg\\web2vec\\.venv\\lib\\site-packages (from web2vec) (4.23.0)\n",
      "Requirement already satisfied: webdriver-manager in c:\\users\\administrator\\pycharmprojects\\zdalneg\\web2vec\\.venv\\lib\\site-packages (from web2vec) (4.0.1)\n",
      "Requirement already satisfied: pydantic in c:\\users\\administrator\\pycharmprojects\\zdalneg\\web2vec\\.venv\\lib\\site-packages (from web2vec) (2.8.2)\n",
      "Requirement already satisfied: pydantic_settings in c:\\users\\administrator\\pycharmprojects\\zdalneg\\web2vec\\.venv\\lib\\site-packages (from web2vec) (2.3.4)\n",
      "Requirement already satisfied: soupsieve>1.2 in c:\\users\\administrator\\pycharmprojects\\zdalneg\\web2vec\\.venv\\lib\\site-packages (from beautifulsoup4->web2vec) (2.5)\n",
      "Requirement already satisfied: aiohttp<4.0.0,>=3.6.2 in c:\\users\\administrator\\pycharmprojects\\zdalneg\\web2vec\\.venv\\lib\\site-packages (from geoip2->web2vec) (3.9.5)\n",
      "Requirement already satisfied: maxminddb<3.0.0,>=2.5.1 in c:\\users\\administrator\\pycharmprojects\\zdalneg\\web2vec\\.venv\\lib\\site-packages (from geoip2->web2vec) (2.6.2)\n",
      "Requirement already satisfied: requests<3.0.0,>=2.24.0 in c:\\users\\administrator\\pycharmprojects\\zdalneg\\web2vec\\.venv\\lib\\site-packages (from geoip2->web2vec) (2.32.3)\n",
      "Requirement already satisfied: setuptools>=60.0.0 in c:\\users\\administrator\\pycharmprojects\\zdalneg\\web2vec\\.venv\\lib\\site-packages (from geoip2->web2vec) (71.1.0)\n",
      "Requirement already satisfied: contourpy>=1.0.1 in c:\\users\\administrator\\pycharmprojects\\zdalneg\\web2vec\\.venv\\lib\\site-packages (from matplotlib->web2vec) (1.2.1)\n",
      "Requirement already satisfied: cycler>=0.10 in c:\\users\\administrator\\pycharmprojects\\zdalneg\\web2vec\\.venv\\lib\\site-packages (from matplotlib->web2vec) (0.12.1)\n",
      "Requirement already satisfied: fonttools>=4.22.0 in c:\\users\\administrator\\pycharmprojects\\zdalneg\\web2vec\\.venv\\lib\\site-packages (from matplotlib->web2vec) (4.53.1)\n",
      "Requirement already satisfied: kiwisolver>=1.3.1 in c:\\users\\administrator\\pycharmprojects\\zdalneg\\web2vec\\.venv\\lib\\site-packages (from matplotlib->web2vec) (1.4.5)\n",
      "Requirement already satisfied: numpy>=1.23 in c:\\users\\administrator\\pycharmprojects\\zdalneg\\web2vec\\.venv\\lib\\site-packages (from matplotlib->web2vec) (2.0.1)\n",
      "Requirement already satisfied: packaging>=20.0 in c:\\users\\administrator\\pycharmprojects\\zdalneg\\web2vec\\.venv\\lib\\site-packages (from matplotlib->web2vec) (24.1)\n",
      "Requirement already satisfied: pillow>=8 in c:\\users\\administrator\\pycharmprojects\\zdalneg\\web2vec\\.venv\\lib\\site-packages (from matplotlib->web2vec) (10.4.0)\n",
      "Requirement already satisfied: pyparsing>=2.3.1 in c:\\users\\administrator\\pycharmprojects\\zdalneg\\web2vec\\.venv\\lib\\site-packages (from matplotlib->web2vec) (3.1.2)\n",
      "Requirement already satisfied: python-dateutil>=2.7 in c:\\users\\administrator\\pycharmprojects\\zdalneg\\web2vec\\.venv\\lib\\site-packages (from matplotlib->web2vec) (2.9.0.post0)\n",
      "Requirement already satisfied: annotated-types>=0.4.0 in c:\\users\\administrator\\pycharmprojects\\zdalneg\\web2vec\\.venv\\lib\\site-packages (from pydantic->web2vec) (0.7.0)\n",
      "Requirement already satisfied: pydantic-core==2.20.1 in c:\\users\\administrator\\pycharmprojects\\zdalneg\\web2vec\\.venv\\lib\\site-packages (from pydantic->web2vec) (2.20.1)\n",
      "Requirement already satisfied: typing-extensions>=4.6.1 in c:\\users\\administrator\\pycharmprojects\\zdalneg\\web2vec\\.venv\\lib\\site-packages (from pydantic->web2vec) (4.9.0)\n",
      "Requirement already satisfied: python-dotenv>=0.21.0 in c:\\users\\administrator\\pycharmprojects\\zdalneg\\web2vec\\.venv\\lib\\site-packages (from pydantic_settings->web2vec) (1.0.1)\n",
      "Requirement already satisfied: Twisted>=18.9.0 in c:\\users\\administrator\\pycharmprojects\\zdalneg\\web2vec\\.venv\\lib\\site-packages (from scrapy->web2vec) (24.3.0)\n",
      "Requirement already satisfied: cryptography>=36.0.0 in c:\\users\\administrator\\pycharmprojects\\zdalneg\\web2vec\\.venv\\lib\\site-packages (from scrapy->web2vec) (43.0.0)\n",
      "Requirement already satisfied: cssselect>=0.9.1 in c:\\users\\administrator\\pycharmprojects\\zdalneg\\web2vec\\.venv\\lib\\site-packages (from scrapy->web2vec) (1.2.0)\n",
      "Requirement already satisfied: itemloaders>=1.0.1 in c:\\users\\administrator\\pycharmprojects\\zdalneg\\web2vec\\.venv\\lib\\site-packages (from scrapy->web2vec) (1.3.1)\n",
      "Requirement already satisfied: parsel>=1.5.0 in c:\\users\\administrator\\pycharmprojects\\zdalneg\\web2vec\\.venv\\lib\\site-packages (from scrapy->web2vec) (1.9.1)\n",
      "Requirement already satisfied: pyOpenSSL>=21.0.0 in c:\\users\\administrator\\pycharmprojects\\zdalneg\\web2vec\\.venv\\lib\\site-packages (from scrapy->web2vec) (24.2.1)\n",
      "Requirement already satisfied: queuelib>=1.4.2 in c:\\users\\administrator\\pycharmprojects\\zdalneg\\web2vec\\.venv\\lib\\site-packages (from scrapy->web2vec) (1.7.0)\n",
      "Requirement already satisfied: service-identity>=18.1.0 in c:\\users\\administrator\\pycharmprojects\\zdalneg\\web2vec\\.venv\\lib\\site-packages (from scrapy->web2vec) (24.1.0)\n",
      "Requirement already satisfied: w3lib>=1.17.0 in c:\\users\\administrator\\pycharmprojects\\zdalneg\\web2vec\\.venv\\lib\\site-packages (from scrapy->web2vec) (2.2.1)\n",
      "Requirement already satisfied: zope.interface>=5.1.0 in c:\\users\\administrator\\pycharmprojects\\zdalneg\\web2vec\\.venv\\lib\\site-packages (from scrapy->web2vec) (6.4.post2)\n",
      "Requirement already satisfied: protego>=0.1.15 in c:\\users\\administrator\\pycharmprojects\\zdalneg\\web2vec\\.venv\\lib\\site-packages (from scrapy->web2vec) (0.3.1)\n",
      "Requirement already satisfied: itemadapter>=0.1.0 in c:\\users\\administrator\\pycharmprojects\\zdalneg\\web2vec\\.venv\\lib\\site-packages (from scrapy->web2vec) (0.9.0)\n",
      "Requirement already satisfied: lxml>=4.4.1 in c:\\users\\administrator\\pycharmprojects\\zdalneg\\web2vec\\.venv\\lib\\site-packages (from scrapy->web2vec) (5.2.2)\n",
      "Requirement already satisfied: defusedxml>=0.7.1 in c:\\users\\administrator\\pycharmprojects\\zdalneg\\web2vec\\.venv\\lib\\site-packages (from scrapy->web2vec) (0.7.1)\n",
      "Requirement already satisfied: PyDispatcher>=2.0.5 in c:\\users\\administrator\\pycharmprojects\\zdalneg\\web2vec\\.venv\\lib\\site-packages (from scrapy->web2vec) (2.0.7)\n",
      "Requirement already satisfied: urllib3<3,>=1.26 in c:\\users\\administrator\\pycharmprojects\\zdalneg\\web2vec\\.venv\\lib\\site-packages (from urllib3[socks]<3,>=1.26->selenium->web2vec) (2.2.2)\n",
      "Requirement already satisfied: trio~=0.17 in c:\\users\\administrator\\pycharmprojects\\zdalneg\\web2vec\\.venv\\lib\\site-packages (from selenium->web2vec) (0.26.0)\n",
      "Requirement already satisfied: trio-websocket~=0.9 in c:\\users\\administrator\\pycharmprojects\\zdalneg\\web2vec\\.venv\\lib\\site-packages (from selenium->web2vec) (0.11.1)\n",
      "Requirement already satisfied: certifi>=2021.10.8 in c:\\users\\administrator\\pycharmprojects\\zdalneg\\web2vec\\.venv\\lib\\site-packages (from selenium->web2vec) (2024.7.4)\n",
      "Requirement already satisfied: websocket-client==1.8.0 in c:\\users\\administrator\\pycharmprojects\\zdalneg\\web2vec\\.venv\\lib\\site-packages (from selenium->web2vec) (1.8.0)\n",
      "Requirement already satisfied: idna in c:\\users\\administrator\\pycharmprojects\\zdalneg\\web2vec\\.venv\\lib\\site-packages (from tldextract->web2vec) (3.7)\n",
      "Requirement already satisfied: requests-file>=1.4 in c:\\users\\administrator\\pycharmprojects\\zdalneg\\web2vec\\.venv\\lib\\site-packages (from tldextract->web2vec) (2.1.0)\n",
      "Requirement already satisfied: filelock>=3.0.8 in c:\\users\\administrator\\pycharmprojects\\zdalneg\\web2vec\\.venv\\lib\\site-packages (from tldextract->web2vec) (3.15.4)\n",
      "Requirement already satisfied: aiosignal>=1.1.2 in c:\\users\\administrator\\pycharmprojects\\zdalneg\\web2vec\\.venv\\lib\\site-packages (from aiohttp<4.0.0,>=3.6.2->geoip2->web2vec) (1.3.1)\n",
      "Requirement already satisfied: attrs>=17.3.0 in c:\\users\\administrator\\pycharmprojects\\zdalneg\\web2vec\\.venv\\lib\\site-packages (from aiohttp<4.0.0,>=3.6.2->geoip2->web2vec) (23.2.0)\n",
      "Requirement already satisfied: frozenlist>=1.1.1 in c:\\users\\administrator\\pycharmprojects\\zdalneg\\web2vec\\.venv\\lib\\site-packages (from aiohttp<4.0.0,>=3.6.2->geoip2->web2vec) (1.4.1)\n",
      "Requirement already satisfied: multidict<7.0,>=4.5 in c:\\users\\administrator\\pycharmprojects\\zdalneg\\web2vec\\.venv\\lib\\site-packages (from aiohttp<4.0.0,>=3.6.2->geoip2->web2vec) (6.0.5)\n",
      "Requirement already satisfied: yarl<2.0,>=1.0 in c:\\users\\administrator\\pycharmprojects\\zdalneg\\web2vec\\.venv\\lib\\site-packages (from aiohttp<4.0.0,>=3.6.2->geoip2->web2vec) (1.9.4)\n",
      "Requirement already satisfied: cffi>=1.12 in c:\\users\\administrator\\pycharmprojects\\zdalneg\\web2vec\\.venv\\lib\\site-packages (from cryptography>=36.0.0->scrapy->web2vec) (1.16.0)\n",
      "Requirement already satisfied: jmespath>=0.9.5 in c:\\users\\administrator\\pycharmprojects\\zdalneg\\web2vec\\.venv\\lib\\site-packages (from itemloaders>=1.0.1->scrapy->web2vec) (1.0.1)\n",
      "Requirement already satisfied: six>=1.5 in c:\\users\\administrator\\pycharmprojects\\zdalneg\\web2vec\\.venv\\lib\\site-packages (from python-dateutil>=2.7->matplotlib->web2vec) (1.16.0)\n",
      "Requirement already satisfied: charset-normalizer<4,>=2 in c:\\users\\administrator\\pycharmprojects\\zdalneg\\web2vec\\.venv\\lib\\site-packages (from requests<3.0.0,>=2.24.0->geoip2->web2vec) (3.3.2)\n",
      "Requirement already satisfied: pyasn1 in c:\\users\\administrator\\pycharmprojects\\zdalneg\\web2vec\\.venv\\lib\\site-packages (from service-identity>=18.1.0->scrapy->web2vec) (0.6.0)\n",
      "Requirement already satisfied: pyasn1-modules in c:\\users\\administrator\\pycharmprojects\\zdalneg\\web2vec\\.venv\\lib\\site-packages (from service-identity>=18.1.0->scrapy->web2vec) (0.4.0)\n",
      "Requirement already satisfied: sortedcontainers in c:\\users\\administrator\\pycharmprojects\\zdalneg\\web2vec\\.venv\\lib\\site-packages (from trio~=0.17->selenium->web2vec) (2.4.0)\n",
      "Requirement already satisfied: outcome in c:\\users\\administrator\\pycharmprojects\\zdalneg\\web2vec\\.venv\\lib\\site-packages (from trio~=0.17->selenium->web2vec) (1.3.0.post0)\n",
      "Requirement already satisfied: sniffio>=1.3.0 in c:\\users\\administrator\\pycharmprojects\\zdalneg\\web2vec\\.venv\\lib\\site-packages (from trio~=0.17->selenium->web2vec) (1.3.1)\n",
      "Requirement already satisfied: wsproto>=0.14 in c:\\users\\administrator\\pycharmprojects\\zdalneg\\web2vec\\.venv\\lib\\site-packages (from trio-websocket~=0.9->selenium->web2vec) (1.2.0)\n",
      "Requirement already satisfied: automat>=0.8.0 in c:\\users\\administrator\\pycharmprojects\\zdalneg\\web2vec\\.venv\\lib\\site-packages (from Twisted>=18.9.0->scrapy->web2vec) (22.10.0)\n",
      "Requirement already satisfied: constantly>=15.1 in c:\\users\\administrator\\pycharmprojects\\zdalneg\\web2vec\\.venv\\lib\\site-packages (from Twisted>=18.9.0->scrapy->web2vec) (23.10.4)\n",
      "Requirement already satisfied: hyperlink>=17.1.1 in c:\\users\\administrator\\pycharmprojects\\zdalneg\\web2vec\\.venv\\lib\\site-packages (from Twisted>=18.9.0->scrapy->web2vec) (21.0.0)\n",
      "Requirement already satisfied: incremental>=22.10.0 in c:\\users\\administrator\\pycharmprojects\\zdalneg\\web2vec\\.venv\\lib\\site-packages (from Twisted>=18.9.0->scrapy->web2vec) (22.10.0)\n",
      "Requirement already satisfied: twisted-iocpsupport<2,>=1.0.2 in c:\\users\\administrator\\pycharmprojects\\zdalneg\\web2vec\\.venv\\lib\\site-packages (from Twisted>=18.9.0->scrapy->web2vec) (1.0.4)\n",
      "Requirement already satisfied: pysocks!=1.5.7,<2.0,>=1.5.6 in c:\\users\\administrator\\pycharmprojects\\zdalneg\\web2vec\\.venv\\lib\\site-packages (from urllib3[socks]<3,>=1.26->selenium->web2vec) (1.7.1)\n",
      "Requirement already satisfied: pycparser in c:\\users\\administrator\\pycharmprojects\\zdalneg\\web2vec\\.venv\\lib\\site-packages (from cffi>=1.12->cryptography>=36.0.0->scrapy->web2vec) (2.22)\n",
      "Requirement already satisfied: h11<1,>=0.9.0 in c:\\users\\administrator\\pycharmprojects\\zdalneg\\web2vec\\.venv\\lib\\site-packages (from wsproto>=0.14->trio-websocket~=0.9->selenium->web2vec) (0.14.0)\n"
     ]
    },
    {
     "name": "stderr",
     "output_type": "stream",
     "text": [
      "\n",
      "[notice] A new release of pip is available: 24.0 -> 24.1.2\n",
      "[notice] To update, run: python.exe -m pip install --upgrade pip\n"
     ]
    }
   ],
   "source": [
    "!pip install web2vec"
   ],
   "execution_count": 1
  },
  {
   "cell_type": "markdown",
   "id": "8715072a02f0319f",
   "metadata": {
    "collapsed": false
   },
   "source": [
    "## Usage\n",
    "To use web2vec, please configure it to know where data is stored or which api key is used. You can do it with environmental variables, .env file or directly in code.\n"
   ]
  },
  {
   "cell_type": "code",
   "outputs": [],
   "source": [
    "import web2vec as w2v\n",
    "\n",
    "w2v.config.set(\"data_dir\", \"data\")"
   ],
   "metadata": {
    "collapsed": false
   },
   "id": "4c9d1e07485ee321"
  },
  {
   "cell_type": "code",
   "id": "61b29b2237c37c42",
   "metadata": {
    "collapsed": false
   },
   "outputs": [],
   "source": [
    "import networkx as nx\n",
    "import nsdlib as nsd\n",
    "from nsdlib.common.models import SourceDetectionConfig\n",
    "from nsdlib.source_detection import SourceDetector\n",
    "from nsdlib.taxonomies import NodeEvaluationAlgorithm\n"
   ],
   "execution_count": null
  },
  {
   "cell_type": "markdown",
   "id": "c95770f04bb13de1",
   "metadata": {
    "collapsed": false
   },
   "source": [
    "## Creating Graphs\n",
    "We'll use a built-in NetworkX graph for demonstration purposes, to have propagation graph we will remove some nodes.\n"
   ]
  },
  {
   "cell_type": "code",
   "id": "c4b54fc0cad454ca",
   "metadata": {
    "ExecuteTime": {
     "start_time": "2024-02-22T10:24:27.617857700Z"
    },
    "collapsed": false
   },
   "outputs": [],
   "source": [
    "G = nx.karate_club_graph()\n",
    "\n",
    "IG = G.copy()\n",
    "IG.remove_nodes_from([10,15,20,33])"
   ],
   "execution_count": null
  },
  {
   "cell_type": "markdown",
   "id": "c9cda74e41bf6f7e",
   "metadata": {
    "collapsed": false
   },
   "source": [
    "## Reconstructing Propagation Graph\n",
    "\n",
    "Let's try to reconstruct propagation graph, as some nodes could be not observed. In our example we removed some of them.\n"
   ]
  },
  {
   "cell_type": "code",
   "id": "c6aed6b640d14f6c",
   "metadata": {
    "ExecuteTime": {
     "start_time": "2024-02-22T10:24:27.617857700Z"
    },
    "collapsed": false
   },
   "outputs": [],
   "source": [
    "EIG = nsd.reconstruction_sbrp(G, IG)\n"
   ],
   "execution_count": null
  },
  {
   "cell_type": "markdown",
   "id": "54dfcb3b5db9fa55",
   "metadata": {
    "collapsed": false
   },
   "source": [
    "## Finding outbreaks\n",
    "\n",
    "It is common that propagation starts from multiple sources. For most cases we try to divide network into smaller  groups called outbreaks that should contain at least one source node. We should do it on reconstructed propagation graph.\n"
   ]
  },
  {
   "cell_type": "code",
   "id": "94ab78fa7659e69f",
   "metadata": {
    "ExecuteTime": {
     "start_time": "2024-02-22T10:24:27.619004100Z"
    },
    "collapsed": false
   },
   "outputs": [],
   "source": [
    "outbreaks = nsd.outbreaks_leiden(EIG)"
   ],
   "execution_count": null
  },
  {
   "metadata": {},
   "cell_type": "markdown",
   "source": [
    "## Doing source detection\n",
    "\n",
    "When we have outbreaks we can try to detect sources of propagation. We can use different algorithms for this task. In this example we will use degree centrality to evaluate nodes and then take one with highest score as source."
   ],
   "id": "57d2c24f8914db60"
  },
  {
   "metadata": {},
   "cell_type": "code",
   "outputs": [],
   "execution_count": null,
   "source": [
    "detected_sources = []\n",
    "for outbreak in outbreaks.communities:\n",
    "    outbreak_G = G.subgraph(outbreak)\n",
    "    nodes_evaluation = nsd.evaluation_degree_centrality(outbreak_G)\n",
    "    outbreak_detected_source = max(nodes_evaluation, key=nodes_evaluation.get)\n",
    "    print(f\"Outbreak: {outbreak}, Detected Source: {outbreak_detected_source}\")\n",
    "    detected_sources.append(outbreak_detected_source)\n",
    "    "
   ],
   "id": "49daba73bd249bff"
  },
  {
   "metadata": {},
   "cell_type": "markdown",
   "source": [
    "## Source detection evaluation\n",
    "\n",
    "When we have found nodes its time to evaluate our classification. To do this we need to know real sources of propagation. In real cases we won't have this data but for research it is popular to use simulations or have some data from real cases."
   ],
   "id": "4458466b4c59f541"
  },
  {
   "metadata": {},
   "cell_type": "code",
   "outputs": [],
   "execution_count": null,
   "source": [
    "real_sources = [0,8]\n",
    "\n",
    "evaluation = nsd.compute_source_detection_evaluation(\n",
    "    G=EIG,\n",
    "    real_sources=real_sources,\n",
    "    detected_sources=detected_sources,\n",
    ")\n",
    "print(evaluation)"
   ],
   "id": "ba9c37e8c45dde2a"
  },
  {
   "cell_type": "markdown",
   "id": "92c70d79aff2b146",
   "metadata": {
    "collapsed": false
   },
   "source": [
    "## Conclusion\n",
    "\n",
    "In this notebook, we introduced basic usage of NSDLib for performing source detection process in given network. For more detailed examples and advanced features, refer to the NSDLib documentation and the [Jupyter Notebook](netcenlib.ipynb) available in the repository.\n"
   ]
  },
  {
   "cell_type": "markdown",
   "id": "b69ead6658dc6ca",
   "metadata": {
    "collapsed": false
   },
   "source": []
  }
 ],
 "metadata": {
  "kernelspec": {
   "display_name": "Python 3",
   "language": "python",
   "name": "python3"
  },
  "language_info": {
   "codemirror_mode": {
    "name": "ipython",
    "version": 2
   },
   "file_extension": ".py",
   "mimetype": "text/x-python",
   "name": "python",
   "nbconvert_exporter": "python",
   "pygments_lexer": "ipython2",
   "version": "2.7.6"
  }
 },
 "nbformat": 4,
 "nbformat_minor": 5
}
